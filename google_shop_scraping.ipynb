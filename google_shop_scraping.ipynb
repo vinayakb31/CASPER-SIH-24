{
 "cells": [
  {
   "cell_type": "code",
   "execution_count": null,
   "metadata": {},
   "outputs": [],
   "source": [
    "import requests\n",
    "from bs4 import BeautifulSoup\n",
    "from googlesearch import search"
   ]
  },
  {
   "cell_type": "code",
   "execution_count": null,
   "metadata": {},
   "outputs": [],
   "source": [
    "search_str = str(input(\"Enter the product name: \"))"
   ]
  },
  {
   "cell_type": "code",
   "execution_count": null,
   "metadata": {},
   "outputs": [],
   "source": [
    "# government_defined_rates = {\n",
    "#     \"Unskilled Labor\": 300,                                     # Unskilled labor rate per day\n",
    "#     \"Semi-Skilled Labor\": 350,                                  # Semi-skilled labor rate per day\n",
    "#     \"Skilled Labor\": 400,                                       # Skilled labor rate per day\n",
    "#     \"Highly Skilled Labor\": 500,                                # Highly skilled labor rate per day\n",
    "#     \"Minimum Wage for Agricultural Labor\": 225,                 # Minimum wage in agriculture sector\n",
    "#     \"Minimum Wage for Construction Workers\": 350,               # Minimum wage in construction\n",
    "#     \"Minimum Wage for Domestic Workers\": 200,                   # Minimum wage for domestic workers\n",
    "#     \"MGNREGA Wage\": 210,                                        # MGNREGA wage\n",
    "#     \"Service Charge for e-Governance Services\": 20,             # Service charge for e-Governance\n",
    "#     \"Motor Transport Workers (Heavy Vehicle Drivers)\": 500,     # Heavy vehicle drivers\n",
    "#     \"Security Guard (Without Arms)\": 400,                       # Security guards without arms\n",
    "#     \"Data Entry Operator\": 450,                                 # Data entry operator\n",
    "#     \"Sweeping & Cleaning Services\": 300,                        # Sweeping and cleaning services\n",
    "#     \"Painter (Building and Other Construction)\": 500,           # Painters in construction\n",
    "#     \"Electrician\": 550,                                         # Electricians\n",
    "#     \"Mason (Construction)\": 600,                                # Masons in construction\n",
    "#     \"Carpenter\": 550,                                           # Carpenters\n",
    "#     \"Plumber\": 500,                                             # Plumbers\n",
    "#     \"Nursing Staff (General Duty)\": 700,                        # Nursing staff\n",
    "#     \"Gardener\": 350,                                            # Gardeners\n",
    "#     \"Watchman\": 350,                                            # Watchmen\n",
    "#     \"Tailor\": 400,                                              # Tailors\n",
    "#     \"Cook (Institutional/Industrial)\": 450,                     # Cooks in institutional settings\n",
    "#     \"Computer Operator\": 500                                    # Computer operators\n",
    "# }\n",
    "\n",
    "\n",
    "# government_defined_rates"
   ]
  },
  {
   "cell_type": "code",
   "execution_count": null,
   "metadata": {},
   "outputs": [],
   "source": [
    "search_url = f\"https://www.google.com/search?tbm=shop&q={search_str.replace(' ', '+')}\"\n",
    "HEADERS = ({'User-Agent': 'Mozilla/5.0 (Windows NT 10.0; Win64; x64) AppleWebKit/537.36 (KHTML, like Gecko) Chrome/128.0.0.0 Safari/537.36 Edg/128.0.0.0', 'Accepted-Language':'en-US, en;q=0.5'})\n",
    "\n",
    "response = requests.get(search_url, headers=HEADERS)\n",
    "soup = BeautifulSoup(response.content, 'html.parser')"
   ]
  },
  {
   "cell_type": "code",
   "execution_count": null,
   "metadata": {},
   "outputs": [],
   "source": [
    "def googleShopping(soup):    \n",
    "    titles = soup.find_all('h3', {'class':'tAxDx'})\n",
    "    prices = soup.find_all('span', {'class':'a8Pemb OFFNJ'})\n",
    "    source_name = soup.find_all('div', {'class':'aULzUe IuHnof'})\n",
    "    jumbled_links = soup.find_all('div', {'class':'mnIHsc'})\n",
    "    source_link = []\n",
    "\n",
    "    for i in jumbled_links:\n",
    "        jumbled_links_content = BeautifulSoup(str(i), 'html.parser')\n",
    "        href_tag = jumbled_links_content.find('a', {'class': 'shntl'})\n",
    "        source_link.append(href_tag.get('href'))\n",
    "    source_link = [\"https://www.google.com\"+i for i in source_link]\n",
    "\n",
    "    products_list = []\n",
    "\n",
    "    for i in range(len(titles)):\n",
    "        products_list.append([titles[i].text.strip(), prices[i].text.strip(), source_name[i].text.strip(), source_link[i]])\n",
    "    \n",
    "    for i in products_list:\n",
    "        print(i)\n",
    "\n",
    "googleShopping(soup)"
   ]
  },
  {
   "cell_type": "code",
   "execution_count": null,
   "metadata": {},
   "outputs": [],
   "source": []
  }
 ],
 "metadata": {
  "kernelspec": {
   "display_name": ".venv",
   "language": "python",
   "name": "python3"
  },
  "language_info": {
   "codemirror_mode": {
    "name": "ipython",
    "version": 3
   },
   "file_extension": ".py",
   "mimetype": "text/x-python",
   "name": "python",
   "nbconvert_exporter": "python",
   "pygments_lexer": "ipython3",
   "version": "3.12.5"
  }
 },
 "nbformat": 4,
 "nbformat_minor": 2
}
